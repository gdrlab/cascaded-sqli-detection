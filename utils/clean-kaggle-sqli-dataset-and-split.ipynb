{
 "cells": [
  {
   "cell_type": "code",
   "execution_count": 1,
   "id": "8832a66f",
   "metadata": {
    "_cell_guid": "b1076dfc-b9ad-4769-8c92-a6c4dae69d19",
    "_uuid": "8f2839f25d086af736a60e9eeb907d3b93b6e0e5",
    "execution": {
     "iopub.execute_input": "2022-11-05T17:35:35.392199Z",
     "iopub.status.busy": "2022-11-05T17:35:35.391679Z",
     "iopub.status.idle": "2022-11-05T17:35:36.527549Z",
     "shell.execute_reply": "2022-11-05T17:35:36.526554Z"
    },
    "papermill": {
     "duration": 1.150472,
     "end_time": "2022-11-05T17:35:36.531062",
     "exception": false,
     "start_time": "2022-11-05T17:35:35.380590",
     "status": "completed"
    },
    "tags": []
   },
   "outputs": [],
   "source": [
    "# This code cleans Kaggle SQLi dataset and splits to test-train files.\n",
    "# The code is mostly taken from two other notebooks:\n",
    "# See https://www.kaggle.com/datasets/syedsaqlainhussain/sql-injection-dataset/code\n",
    "# eda-sql-injection-dataset notebook at Kaggle\n",
    "# sql-inject-using-linear-models-and-cnn  notebook at Kaggle\n",
    "\n",
    "import numpy as np # linear algebra\n",
    "import pandas as pd # data processing, CSV file I/O (e.g. pd.read_csv)\n",
    "import seaborn as sns\n",
    "import matplotlib.pyplot as plt\n",
    "import matplotlib\n"
   ]
  },
  {
   "cell_type": "code",
   "execution_count": 2,
   "id": "36b5a8be",
   "metadata": {},
   "outputs": [],
   "source": [
    "from pathlib import Path\n",
    "main_folder = Path(r\"C:\\Users\\3057550\\OneDrive - Queen's University Belfast\\ECIT\\Research\\AI_Cybersecurity\\Code_Projects\\github_rafi_SQLi\\rafi-sqli-detection\\utils\\sample_datasets\")"
   ]
  },
  {
   "cell_type": "markdown",
   "id": "52a1a755",
   "metadata": {
    "papermill": {
     "duration": 0.007927,
     "end_time": "2022-11-05T17:35:36.627500",
     "exception": false,
     "start_time": "2022-11-05T17:35:36.619573",
     "status": "completed"
    },
    "tags": []
   },
   "source": [
    "### Reading and displaying the dataset"
   ]
  },
  {
   "cell_type": "code",
   "execution_count": 3,
   "id": "934e0e43",
   "metadata": {
    "execution": {
     "iopub.execute_input": "2022-11-05T17:35:36.644975Z",
     "iopub.status.busy": "2022-11-05T17:35:36.644532Z",
     "iopub.status.idle": "2022-11-05T17:35:36.770629Z",
     "shell.execute_reply": "2022-11-05T17:35:36.769288Z"
    },
    "papermill": {
     "duration": 0.137917,
     "end_time": "2022-11-05T17:35:36.773209",
     "exception": false,
     "start_time": "2022-11-05T17:35:36.635292",
     "status": "completed"
    },
    "tags": []
   },
   "outputs": [
    {
     "data": {
      "text/html": [
       "<div>\n",
       "<style scoped>\n",
       "    .dataframe tbody tr th:only-of-type {\n",
       "        vertical-align: middle;\n",
       "    }\n",
       "\n",
       "    .dataframe tbody tr th {\n",
       "        vertical-align: top;\n",
       "    }\n",
       "\n",
       "    .dataframe thead th {\n",
       "        text-align: right;\n",
       "    }\n",
       "</style>\n",
       "<table border=\"1\" class=\"dataframe\">\n",
       "  <thead>\n",
       "    <tr style=\"text-align: right;\">\n",
       "      <th></th>\n",
       "      <th>Sentence</th>\n",
       "      <th>Label</th>\n",
       "      <th>Unnamed: 2</th>\n",
       "      <th>Unnamed: 3</th>\n",
       "    </tr>\n",
       "  </thead>\n",
       "  <tbody>\n",
       "    <tr>\n",
       "      <th>0</th>\n",
       "      <td>\" or pg_sleep  (  __TIME__  )  --</td>\n",
       "      <td>1</td>\n",
       "      <td>NaN</td>\n",
       "      <td>NaN</td>\n",
       "    </tr>\n",
       "    <tr>\n",
       "      <th>1</th>\n",
       "      <td>create user name identified by pass123 tempora...</td>\n",
       "      <td>NaN</td>\n",
       "      <td>1</td>\n",
       "      <td>NaN</td>\n",
       "    </tr>\n",
       "    <tr>\n",
       "      <th>2</th>\n",
       "      <td>AND 1  =  utl_inaddr.get_host_address   (    ...</td>\n",
       "      <td>1</td>\n",
       "      <td>NaN</td>\n",
       "      <td>NaN</td>\n",
       "    </tr>\n",
       "    <tr>\n",
       "      <th>3</th>\n",
       "      <td>select * from users where id  =  '1' or @ @1 ...</td>\n",
       "      <td>1</td>\n",
       "      <td>NaN</td>\n",
       "      <td>NaN</td>\n",
       "    </tr>\n",
       "    <tr>\n",
       "      <th>4</th>\n",
       "      <td>select * from users where id  =  1 or 1#\"  ( ...</td>\n",
       "      <td>1</td>\n",
       "      <td>NaN</td>\n",
       "      <td>NaN</td>\n",
       "    </tr>\n",
       "    <tr>\n",
       "      <th>5</th>\n",
       "      <td>select name from syscolumns where id   =     ...</td>\n",
       "      <td>1</td>\n",
       "      <td>NaN</td>\n",
       "      <td>NaN</td>\n",
       "    </tr>\n",
       "    <tr>\n",
       "      <th>6</th>\n",
       "      <td>select * from users where id  =  1 +$+ or 1  =...</td>\n",
       "      <td>1</td>\n",
       "      <td>NaN</td>\n",
       "      <td>NaN</td>\n",
       "    </tr>\n",
       "    <tr>\n",
       "      <th>7</th>\n",
       "      <td>1;  (  load_file  (  char  (  47,101,116,99,47...</td>\n",
       "      <td>1</td>\n",
       "      <td>NaN</td>\n",
       "      <td>NaN</td>\n",
       "    </tr>\n",
       "    <tr>\n",
       "      <th>8</th>\n",
       "      <td>select * from users where id  =  '1' or ||/1 ...</td>\n",
       "      <td>1</td>\n",
       "      <td>NaN</td>\n",
       "      <td>NaN</td>\n",
       "    </tr>\n",
       "    <tr>\n",
       "      <th>9</th>\n",
       "      <td>select * from users where id  =  '1' or \\.&lt;\\ ...</td>\n",
       "      <td>1</td>\n",
       "      <td>NaN</td>\n",
       "      <td>NaN</td>\n",
       "    </tr>\n",
       "  </tbody>\n",
       "</table>\n",
       "</div>"
      ],
      "text/plain": [
       "                                            Sentence Label Unnamed: 2  \\\n",
       "0                  \" or pg_sleep  (  __TIME__  )  --     1        NaN   \n",
       "1  create user name identified by pass123 tempora...   NaN          1   \n",
       "2   AND 1  =  utl_inaddr.get_host_address   (    ...     1        NaN   \n",
       "3   select * from users where id  =  '1' or @ @1 ...     1        NaN   \n",
       "4   select * from users where id  =  1 or 1#\"  ( ...     1        NaN   \n",
       "5   select name from syscolumns where id   =     ...     1        NaN   \n",
       "6  select * from users where id  =  1 +$+ or 1  =...     1        NaN   \n",
       "7  1;  (  load_file  (  char  (  47,101,116,99,47...     1        NaN   \n",
       "8   select * from users where id  =  '1' or ||/1 ...     1        NaN   \n",
       "9   select * from users where id  =  '1' or \\.<\\ ...     1        NaN   \n",
       "\n",
       "   Unnamed: 3  \n",
       "0         NaN  \n",
       "1         NaN  \n",
       "2         NaN  \n",
       "3         NaN  \n",
       "4         NaN  \n",
       "5         NaN  \n",
       "6         NaN  \n",
       "7         NaN  \n",
       "8         NaN  \n",
       "9         NaN  "
      ]
     },
     "execution_count": 3,
     "metadata": {},
     "output_type": "execute_result"
    }
   ],
   "source": [
    "df = pd.read_csv(main_folder / 'SQLiV3.csv', encoding='utf-8') # Read the dataset.\n",
    "df.head(10)"
   ]
  },
  {
   "cell_type": "markdown",
   "id": "b7a58700",
   "metadata": {
    "papermill": {
     "duration": 0.007747,
     "end_time": "2022-11-05T17:35:36.789181",
     "exception": false,
     "start_time": "2022-11-05T17:35:36.781434",
     "status": "completed"
    },
    "tags": []
   },
   "source": [
    "### Removing unused columns"
   ]
  },
  {
   "cell_type": "code",
   "execution_count": 4,
   "id": "073013ab",
   "metadata": {
    "execution": {
     "iopub.execute_input": "2022-11-05T17:35:36.809639Z",
     "iopub.status.busy": "2022-11-05T17:35:36.809185Z",
     "iopub.status.idle": "2022-11-05T17:35:36.821379Z",
     "shell.execute_reply": "2022-11-05T17:35:36.820253Z"
    },
    "papermill": {
     "duration": 0.024463,
     "end_time": "2022-11-05T17:35:36.823640",
     "exception": false,
     "start_time": "2022-11-05T17:35:36.799177",
     "status": "completed"
    },
    "tags": []
   },
   "outputs": [],
   "source": [
    "del df['Unnamed: 2']\n",
    "\n",
    "del df['Unnamed: 3']"
   ]
  },
  {
   "cell_type": "code",
   "execution_count": 5,
   "id": "ebdb5c2a",
   "metadata": {
    "execution": {
     "iopub.execute_input": "2022-11-05T17:35:36.842496Z",
     "iopub.status.busy": "2022-11-05T17:35:36.841685Z",
     "iopub.status.idle": "2022-11-05T17:35:36.849239Z",
     "shell.execute_reply": "2022-11-05T17:35:36.848193Z"
    },
    "papermill": {
     "duration": 0.019501,
     "end_time": "2022-11-05T17:35:36.851429",
     "exception": false,
     "start_time": "2022-11-05T17:35:36.831928",
     "status": "completed"
    },
    "tags": []
   },
   "outputs": [
    {
     "data": {
      "text/plain": [
       "(30919, 2)"
      ]
     },
     "execution_count": 5,
     "metadata": {},
     "output_type": "execute_result"
    }
   ],
   "source": [
    "df.shape"
   ]
  },
  {
   "cell_type": "code",
   "execution_count": 6,
   "id": "61457a2d",
   "metadata": {
    "execution": {
     "iopub.execute_input": "2022-11-05T17:35:36.870622Z",
     "iopub.status.busy": "2022-11-05T17:35:36.870123Z",
     "iopub.status.idle": "2022-11-05T17:35:36.882429Z",
     "shell.execute_reply": "2022-11-05T17:35:36.881098Z"
    },
    "papermill": {
     "duration": 0.025052,
     "end_time": "2022-11-05T17:35:36.885162",
     "exception": false,
     "start_time": "2022-11-05T17:35:36.860110",
     "status": "completed"
    },
    "tags": []
   },
   "outputs": [
    {
     "data": {
      "text/html": [
       "<div>\n",
       "<style scoped>\n",
       "    .dataframe tbody tr th:only-of-type {\n",
       "        vertical-align: middle;\n",
       "    }\n",
       "\n",
       "    .dataframe tbody tr th {\n",
       "        vertical-align: top;\n",
       "    }\n",
       "\n",
       "    .dataframe thead th {\n",
       "        text-align: right;\n",
       "    }\n",
       "</style>\n",
       "<table border=\"1\" class=\"dataframe\">\n",
       "  <thead>\n",
       "    <tr style=\"text-align: right;\">\n",
       "      <th></th>\n",
       "      <th>Sentence</th>\n",
       "      <th>Label</th>\n",
       "    </tr>\n",
       "  </thead>\n",
       "  <tbody>\n",
       "    <tr>\n",
       "      <th>0</th>\n",
       "      <td>\" or pg_sleep  (  __TIME__  )  --</td>\n",
       "      <td>1</td>\n",
       "    </tr>\n",
       "    <tr>\n",
       "      <th>1</th>\n",
       "      <td>create user name identified by pass123 tempora...</td>\n",
       "      <td>NaN</td>\n",
       "    </tr>\n",
       "    <tr>\n",
       "      <th>2</th>\n",
       "      <td>AND 1  =  utl_inaddr.get_host_address   (    ...</td>\n",
       "      <td>1</td>\n",
       "    </tr>\n",
       "    <tr>\n",
       "      <th>3</th>\n",
       "      <td>select * from users where id  =  '1' or @ @1 ...</td>\n",
       "      <td>1</td>\n",
       "    </tr>\n",
       "    <tr>\n",
       "      <th>4</th>\n",
       "      <td>select * from users where id  =  1 or 1#\"  ( ...</td>\n",
       "      <td>1</td>\n",
       "    </tr>\n",
       "  </tbody>\n",
       "</table>\n",
       "</div>"
      ],
      "text/plain": [
       "                                            Sentence Label\n",
       "0                  \" or pg_sleep  (  __TIME__  )  --     1\n",
       "1  create user name identified by pass123 tempora...   NaN\n",
       "2   AND 1  =  utl_inaddr.get_host_address   (    ...     1\n",
       "3   select * from users where id  =  '1' or @ @1 ...     1\n",
       "4   select * from users where id  =  1 or 1#\"  ( ...     1"
      ]
     },
     "execution_count": 6,
     "metadata": {},
     "output_type": "execute_result"
    }
   ],
   "source": [
    "df.head()"
   ]
  },
  {
   "cell_type": "code",
   "execution_count": 7,
   "id": "c0253db3",
   "metadata": {
    "execution": {
     "iopub.execute_input": "2022-11-05T17:35:36.904913Z",
     "iopub.status.busy": "2022-11-05T17:35:36.904180Z",
     "iopub.status.idle": "2022-11-05T17:35:36.929131Z",
     "shell.execute_reply": "2022-11-05T17:35:36.927578Z"
    },
    "papermill": {
     "duration": 0.03812,
     "end_time": "2022-11-05T17:35:36.932117",
     "exception": false,
     "start_time": "2022-11-05T17:35:36.893997",
     "status": "completed"
    },
    "tags": []
   },
   "outputs": [
    {
     "name": "stdout",
     "output_type": "stream",
     "text": [
      "----------------------------------------------------\n",
      "<class 'pandas.core.frame.DataFrame'>\n",
      "RangeIndex: 30919 entries, 0 to 30918\n",
      "Data columns (total 2 columns):\n",
      " #   Column    Non-Null Count  Dtype \n",
      "---  ------    --------------  ----- \n",
      " 0   Sentence  30904 non-null  object\n",
      " 1   Label     30664 non-null  object\n",
      "dtypes: object(2)\n",
      "memory usage: 483.2+ KB\n",
      "----------------------------------------------------\n"
     ]
    }
   ],
   "source": [
    "print(\"----------------------------------------------------\")\n",
    "df.info()\n",
    "print(\"----------------------------------------------------\")"
   ]
  },
  {
   "cell_type": "code",
   "execution_count": 8,
   "id": "df053298",
   "metadata": {
    "execution": {
     "iopub.execute_input": "2022-11-05T17:35:36.951897Z",
     "iopub.status.busy": "2022-11-05T17:35:36.951474Z",
     "iopub.status.idle": "2022-11-05T17:35:36.965396Z",
     "shell.execute_reply": "2022-11-05T17:35:36.964107Z"
    },
    "papermill": {
     "duration": 0.026716,
     "end_time": "2022-11-05T17:35:36.967884",
     "exception": false,
     "start_time": "2022-11-05T17:35:36.941168",
     "status": "completed"
    },
    "tags": []
   },
   "outputs": [
    {
     "data": {
      "text/plain": [
       "count     30664\n",
       "unique       42\n",
       "top           0\n",
       "freq      19268\n",
       "Name: Label, dtype: object"
      ]
     },
     "execution_count": 8,
     "metadata": {},
     "output_type": "execute_result"
    }
   ],
   "source": [
    "df['Label'].describe()"
   ]
  },
  {
   "cell_type": "markdown",
   "id": "9529250b",
   "metadata": {
    "papermill": {
     "duration": 0.008461,
     "end_time": "2022-11-05T17:35:36.985206",
     "exception": false,
     "start_time": "2022-11-05T17:35:36.976745",
     "status": "completed"
    },
    "tags": []
   },
   "source": [
    "#### Process NaN values"
   ]
  },
  {
   "cell_type": "code",
   "execution_count": 9,
   "id": "abda75d1",
   "metadata": {
    "execution": {
     "iopub.execute_input": "2022-11-05T17:35:37.004414Z",
     "iopub.status.busy": "2022-11-05T17:35:37.004021Z",
     "iopub.status.idle": "2022-11-05T17:35:37.014328Z",
     "shell.execute_reply": "2022-11-05T17:35:37.013032Z"
    },
    "papermill": {
     "duration": 0.023142,
     "end_time": "2022-11-05T17:35:37.017035",
     "exception": false,
     "start_time": "2022-11-05T17:35:36.993893",
     "status": "completed"
    },
    "tags": []
   },
   "outputs": [
    {
     "data": {
      "text/plain": [
       "255"
      ]
     },
     "execution_count": 9,
     "metadata": {},
     "output_type": "execute_result"
    }
   ],
   "source": [
    "df['Label'].isna().sum() # Count NaN label values."
   ]
  },
  {
   "cell_type": "code",
   "execution_count": 10,
   "id": "8f364f23",
   "metadata": {
    "execution": {
     "iopub.execute_input": "2022-11-05T17:35:37.036847Z",
     "iopub.status.busy": "2022-11-05T17:35:37.036447Z",
     "iopub.status.idle": "2022-11-05T17:35:37.049060Z",
     "shell.execute_reply": "2022-11-05T17:35:37.047752Z"
    },
    "papermill": {
     "duration": 0.025737,
     "end_time": "2022-11-05T17:35:37.051544",
     "exception": false,
     "start_time": "2022-11-05T17:35:37.025807",
     "status": "completed"
    },
    "tags": []
   },
   "outputs": [],
   "source": [
    "df = df.dropna() # Remove Nan values."
   ]
  },
  {
   "cell_type": "markdown",
   "id": "4315aa79",
   "metadata": {
    "papermill": {
     "duration": 0.008372,
     "end_time": "2022-11-05T17:35:37.068830",
     "exception": false,
     "start_time": "2022-11-05T17:35:37.060458",
     "status": "completed"
    },
    "tags": []
   },
   "source": [
    "### Fixing the target label"
   ]
  },
  {
   "cell_type": "code",
   "execution_count": 11,
   "id": "dabd0be7",
   "metadata": {
    "execution": {
     "iopub.execute_input": "2022-11-05T17:35:37.089204Z",
     "iopub.status.busy": "2022-11-05T17:35:37.087894Z",
     "iopub.status.idle": "2022-11-05T17:35:37.098832Z",
     "shell.execute_reply": "2022-11-05T17:35:37.096969Z"
    },
    "papermill": {
     "duration": 0.023932,
     "end_time": "2022-11-05T17:35:37.101531",
     "exception": false,
     "start_time": "2022-11-05T17:35:37.077599",
     "status": "completed"
    },
    "tags": []
   },
   "outputs": [
    {
     "name": "stdout",
     "output_type": "stream",
     "text": [
      "1\n",
      "SELECT *\n",
      " --\n",
      " desc users\n",
      " OR\n",
      "waitfor delay '0:0:__TIME__'--\n",
      " drop table temp --\n",
      "0\n",
      " grant resource to name\n",
      " EXEC SelectAllCustomers\n",
      " /*Select all the columns of all the records in the Customers table:*/\n",
      "*/\n",
      " CREATE VIEW [Products Above Average Price] AS\n",
      " CREATE OR REPLACE VIEW view_name AS\n",
      " DROP TABLE Suppliers\n",
      " CREATE PROCEDURE SelectAllCustomers AS\n",
      "  EXEC SelectAllCustomers\n",
      " DELETE FROM Customers  WHERE CustomerName = 'Alfreds Futterkiste'\n",
      " CREATE OR REPLACE VIEW [Brazil Customers] AS\n",
      "  SELECT * FROM CustomersLIMIT 3\n",
      "SELECT * FROM Customers\n",
      " SELECT TOP 50 PERCENT * FROM Customers\n",
      " SELECT * FROM CustomersFETCH FIRST 50 PERCENT ROWS ONLY\n",
      "SELECT TOP 3 * FROM Customers\n",
      " SELECT * FROM Customers\n",
      "SELECT SUM ( Quantity ) \n",
      " SELECT column_name ( s ) \n",
      " SELECT City FROM Customers\n"
     ]
    }
   ],
   "source": [
    "# Get unique values existing in the label column.\n",
    "\n",
    "unique_label = pd.unique(df['Label'])\n",
    "\n",
    "print('\\n'.join(l for l in unique_label))"
   ]
  },
  {
   "cell_type": "markdown",
   "id": "c6f92c4e",
   "metadata": {
    "papermill": {
     "duration": 0.008482,
     "end_time": "2022-11-05T17:35:37.119167",
     "exception": false,
     "start_time": "2022-11-05T17:35:37.110685",
     "status": "completed"
    },
    "tags": []
   },
   "source": [
    "\n",
    "#### Above, we can see that the label contains more than simply 0s and 1s. We need to fix the errors it includes."
   ]
  },
  {
   "cell_type": "code",
   "execution_count": 12,
   "id": "f478c1e9",
   "metadata": {
    "execution": {
     "iopub.execute_input": "2022-11-05T17:35:37.138315Z",
     "iopub.status.busy": "2022-11-05T17:35:37.137923Z",
     "iopub.status.idle": "2022-11-05T17:35:37.151611Z",
     "shell.execute_reply": "2022-11-05T17:35:37.150580Z"
    },
    "papermill": {
     "duration": 0.025906,
     "end_time": "2022-11-05T17:35:37.153959",
     "exception": false,
     "start_time": "2022-11-05T17:35:37.128053",
     "status": "completed"
    },
    "tags": []
   },
   "outputs": [],
   "source": [
    "df = df.drop(df[(df['Label'] != '0') & (df['Label'] != '1')].index) # Dropping the label values, that are different from 0 or 1."
   ]
  },
  {
   "cell_type": "code",
   "execution_count": 13,
   "id": "c5ddf9e3",
   "metadata": {
    "execution": {
     "iopub.execute_input": "2022-11-05T17:35:37.173592Z",
     "iopub.status.busy": "2022-11-05T17:35:37.173157Z",
     "iopub.status.idle": "2022-11-05T17:35:37.184307Z",
     "shell.execute_reply": "2022-11-05T17:35:37.182953Z"
    },
    "papermill": {
     "duration": 0.023711,
     "end_time": "2022-11-05T17:35:37.186554",
     "exception": false,
     "start_time": "2022-11-05T17:35:37.162843",
     "status": "completed"
    },
    "tags": []
   },
   "outputs": [],
   "source": [
    "df['Label'] = df['Label'].astype('int') # Convert the label type to integer."
   ]
  },
  {
   "cell_type": "code",
   "execution_count": 14,
   "id": "7aa47990",
   "metadata": {
    "execution": {
     "iopub.execute_input": "2022-11-05T17:35:37.206952Z",
     "iopub.status.busy": "2022-11-05T17:35:37.205707Z",
     "iopub.status.idle": "2022-11-05T17:35:37.222015Z",
     "shell.execute_reply": "2022-11-05T17:35:37.220365Z"
    },
    "papermill": {
     "duration": 0.028737,
     "end_time": "2022-11-05T17:35:37.224219",
     "exception": false,
     "start_time": "2022-11-05T17:35:37.195482",
     "status": "completed"
    },
    "tags": []
   },
   "outputs": [
    {
     "name": "stdout",
     "output_type": "stream",
     "text": [
      "<class 'pandas.core.frame.DataFrame'>\n",
      "Int64Index: 30609 entries, 0 to 30918\n",
      "Data columns (total 2 columns):\n",
      " #   Column    Non-Null Count  Dtype \n",
      "---  ------    --------------  ----- \n",
      " 0   Sentence  30609 non-null  object\n",
      " 1   Label     30609 non-null  int32 \n",
      "dtypes: int32(1), object(1)\n",
      "memory usage: 597.8+ KB\n"
     ]
    }
   ],
   "source": [
    "df.info()"
   ]
  },
  {
   "cell_type": "code",
   "execution_count": 15,
   "id": "f8a6f26c",
   "metadata": {
    "execution": {
     "iopub.execute_input": "2022-11-05T17:35:37.243901Z",
     "iopub.status.busy": "2022-11-05T17:35:37.243483Z",
     "iopub.status.idle": "2022-11-05T17:35:37.256508Z",
     "shell.execute_reply": "2022-11-05T17:35:37.255205Z"
    },
    "papermill": {
     "duration": 0.025601,
     "end_time": "2022-11-05T17:35:37.258888",
     "exception": false,
     "start_time": "2022-11-05T17:35:37.233287",
     "status": "completed"
    },
    "tags": []
   },
   "outputs": [
    {
     "data": {
      "text/plain": [
       "Sentence    11341\n",
       "Label       11341\n",
       "dtype: int64"
      ]
     },
     "execution_count": 15,
     "metadata": {},
     "output_type": "execute_result"
    }
   ],
   "source": [
    "df[df['Label'] == 1].count() # Count how much label are 1."
   ]
  },
  {
   "cell_type": "code",
   "execution_count": 16,
   "id": "fc0359c8",
   "metadata": {
    "execution": {
     "iopub.execute_input": "2022-11-05T17:35:37.278978Z",
     "iopub.status.busy": "2022-11-05T17:35:37.278561Z",
     "iopub.status.idle": "2022-11-05T17:35:37.291610Z",
     "shell.execute_reply": "2022-11-05T17:35:37.290265Z"
    },
    "papermill": {
     "duration": 0.026008,
     "end_time": "2022-11-05T17:35:37.294022",
     "exception": false,
     "start_time": "2022-11-05T17:35:37.268014",
     "status": "completed"
    },
    "tags": []
   },
   "outputs": [
    {
     "data": {
      "text/plain": [
       "Sentence    19268\n",
       "Label       19268\n",
       "dtype: int64"
      ]
     },
     "execution_count": 16,
     "metadata": {},
     "output_type": "execute_result"
    }
   ],
   "source": [
    "df[df['Label'] == 0].count() # Count how much label are 0."
   ]
  },
  {
   "cell_type": "markdown",
   "id": "b0f30479",
   "metadata": {
    "papermill": {
     "duration": 0.008731,
     "end_time": "2022-11-05T17:35:37.311890",
     "exception": false,
     "start_time": "2022-11-05T17:35:37.303159",
     "status": "completed"
    },
    "tags": []
   },
   "source": [
    "### Distribution of the label"
   ]
  },
  {
   "cell_type": "code",
   "execution_count": 24,
   "id": "90b04926",
   "metadata": {
    "execution": {
     "iopub.execute_input": "2022-11-05T17:35:37.331595Z",
     "iopub.status.busy": "2022-11-05T17:35:37.331200Z",
     "iopub.status.idle": "2022-11-05T17:35:37.716715Z",
     "shell.execute_reply": "2022-11-05T17:35:37.715381Z"
    },
    "papermill": {
     "duration": 0.398677,
     "end_time": "2022-11-05T17:35:37.719581",
     "exception": false,
     "start_time": "2022-11-05T17:35:37.320904",
     "status": "completed"
    },
    "tags": []
   },
   "outputs": [
    {
     "data": {
      "image/png": "[encoded data removed]",
      "text/plain": [
       "<Figure size 1200x800 with 2 Axes>"
      ]
     },
     "metadata": {},
     "output_type": "display_data"
    }
   ],
   "source": [
    "f,ax=plt.subplots(1,2,figsize=(12,8))\n",
    "df['Label'].value_counts().plot.pie(explode=[0,0.1],autopct='%1.1f%%',ax=ax[0],shadow=True, wedgeprops={'alpha':0.2})\n",
    "\n",
    "\n",
    "ax[0].set_title('Label')\n",
    "ax[0].set_ylabel('')\n",
    "\n",
    "sns.histplot(data=df, x='Label', ax=ax[1], alpha=0.5, discrete=True)\n",
    "ax[1].set_title('Label')\n",
    "ax[1].set_xticks(ticks=[0,1])\n",
    "plt.show()"
   ]
  },
  {
   "cell_type": "code",
   "execution_count": 25,
   "id": "98877cdf",
   "metadata": {
    "execution": {
     "iopub.execute_input": "2022-11-05T17:35:37.741076Z",
     "iopub.status.busy": "2022-11-05T17:35:37.740617Z",
     "iopub.status.idle": "2022-11-05T17:35:37.752569Z",
     "shell.execute_reply": "2022-11-05T17:35:37.751371Z"
    },
    "papermill": {
     "duration": 0.025276,
     "end_time": "2022-11-05T17:35:37.754796",
     "exception": false,
     "start_time": "2022-11-05T17:35:37.729520",
     "status": "completed"
    },
    "tags": []
   },
   "outputs": [
    {
     "data": {
      "text/html": [
       "<div>\n",
       "<style scoped>\n",
       "    .dataframe tbody tr th:only-of-type {\n",
       "        vertical-align: middle;\n",
       "    }\n",
       "\n",
       "    .dataframe tbody tr th {\n",
       "        vertical-align: top;\n",
       "    }\n",
       "\n",
       "    .dataframe thead th {\n",
       "        text-align: right;\n",
       "    }\n",
       "</style>\n",
       "<table border=\"1\" class=\"dataframe\">\n",
       "  <thead>\n",
       "    <tr style=\"text-align: right;\">\n",
       "      <th></th>\n",
       "      <th>Sentence</th>\n",
       "      <th>Label</th>\n",
       "    </tr>\n",
       "  </thead>\n",
       "  <tbody>\n",
       "    <tr>\n",
       "      <th>0</th>\n",
       "      <td>\" or pg_sleep  (  __TIME__  )  --</td>\n",
       "      <td>1</td>\n",
       "    </tr>\n",
       "    <tr>\n",
       "      <th>2</th>\n",
       "      <td>AND 1  =  utl_inaddr.get_host_address   (    ...</td>\n",
       "      <td>1</td>\n",
       "    </tr>\n",
       "    <tr>\n",
       "      <th>3</th>\n",
       "      <td>select * from users where id  =  '1' or @ @1 ...</td>\n",
       "      <td>1</td>\n",
       "    </tr>\n",
       "    <tr>\n",
       "      <th>4</th>\n",
       "      <td>select * from users where id  =  1 or 1#\"  ( ...</td>\n",
       "      <td>1</td>\n",
       "    </tr>\n",
       "    <tr>\n",
       "      <th>5</th>\n",
       "      <td>select name from syscolumns where id   =     ...</td>\n",
       "      <td>1</td>\n",
       "    </tr>\n",
       "  </tbody>\n",
       "</table>\n",
       "</div>"
      ],
      "text/plain": [
       "                                            Sentence  Label\n",
       "0                  \" or pg_sleep  (  __TIME__  )  --      1\n",
       "2   AND 1  =  utl_inaddr.get_host_address   (    ...      1\n",
       "3   select * from users where id  =  '1' or @ @1 ...      1\n",
       "4   select * from users where id  =  1 or 1#\"  ( ...      1\n",
       "5   select name from syscolumns where id   =     ...      1"
      ]
     },
     "execution_count": 25,
     "metadata": {},
     "output_type": "execute_result"
    }
   ],
   "source": [
    "df.head()"
   ]
  },
  {
   "cell_type": "markdown",
   "id": "a74ac4d2",
   "metadata": {
    "papermill": {
     "duration": 0.009379,
     "end_time": "2022-11-05T17:35:37.773749",
     "exception": false,
     "start_time": "2022-11-05T17:35:37.764370",
     "status": "completed"
    },
    "tags": []
   },
   "source": [
    "### How many comments symbols are in the payloads ?"
   ]
  },
  {
   "cell_type": "code",
   "execution_count": 26,
   "id": "65520133",
   "metadata": {
    "execution": {
     "iopub.execute_input": "2022-11-05T17:35:37.795981Z",
     "iopub.status.busy": "2022-11-05T17:35:37.794545Z",
     "iopub.status.idle": "2022-11-05T17:35:37.829435Z",
     "shell.execute_reply": "2022-11-05T17:35:37.828478Z"
    },
    "papermill": {
     "duration": 0.048754,
     "end_time": "2022-11-05T17:35:37.831993",
     "exception": false,
     "start_time": "2022-11-05T17:35:37.783239",
     "status": "completed"
    },
    "tags": []
   },
   "outputs": [],
   "source": [
    "comment_values = df[df.Sentence.str.contains('#|--|//')]"
   ]
  },
  {
   "cell_type": "code",
   "execution_count": 27,
   "id": "affa6683",
   "metadata": {
    "execution": {
     "iopub.execute_input": "2022-11-05T17:35:37.853227Z",
     "iopub.status.busy": "2022-11-05T17:35:37.852770Z",
     "iopub.status.idle": "2022-11-05T17:35:37.864451Z",
     "shell.execute_reply": "2022-11-05T17:35:37.862956Z"
    },
    "papermill": {
     "duration": 0.025565,
     "end_time": "2022-11-05T17:35:37.867175",
     "exception": false,
     "start_time": "2022-11-05T17:35:37.841610",
     "status": "completed"
    },
    "tags": []
   },
   "outputs": [
    {
     "data": {
      "text/plain": [
       "5905"
      ]
     },
     "execution_count": 27,
     "metadata": {},
     "output_type": "execute_result"
    }
   ],
   "source": [
    "comment_values.count()[0] # How many comments symbols are in the payloads."
   ]
  },
  {
   "cell_type": "markdown",
   "id": "6e382d46",
   "metadata": {
    "papermill": {
     "duration": 0.009422,
     "end_time": "2022-11-05T17:35:37.886275",
     "exception": false,
     "start_time": "2022-11-05T17:35:37.876853",
     "status": "completed"
    },
    "tags": []
   },
   "source": [
    "### The tables in the payloads"
   ]
  },
  {
   "cell_type": "code",
   "execution_count": 28,
   "id": "4caf5db5",
   "metadata": {
    "execution": {
     "iopub.execute_input": "2022-11-05T17:35:37.907891Z",
     "iopub.status.busy": "2022-11-05T17:35:37.907425Z",
     "iopub.status.idle": "2022-11-05T17:35:37.930181Z",
     "shell.execute_reply": "2022-11-05T17:35:37.929010Z"
    },
    "papermill": {
     "duration": 0.03701,
     "end_time": "2022-11-05T17:35:37.932894",
     "exception": false,
     "start_time": "2022-11-05T17:35:37.895884",
     "status": "completed"
    },
    "tags": []
   },
   "outputs": [],
   "source": [
    "from_values = df[df.Sentence.str.contains('from')]"
   ]
  },
  {
   "cell_type": "code",
   "execution_count": 29,
   "id": "df51ff0e",
   "metadata": {
    "execution": {
     "iopub.execute_input": "2022-11-05T17:35:37.954925Z",
     "iopub.status.busy": "2022-11-05T17:35:37.954446Z",
     "iopub.status.idle": "2022-11-05T17:35:37.972884Z",
     "shell.execute_reply": "2022-11-05T17:35:37.971148Z"
    },
    "papermill": {
     "duration": 0.032949,
     "end_time": "2022-11-05T17:35:37.975689",
     "exception": false,
     "start_time": "2022-11-05T17:35:37.942740",
     "status": "completed"
    },
    "tags": []
   },
   "outputs": [
    {
     "name": "stdout",
     "output_type": "stream",
     "text": [
      "['users', 'syscolumns', 'sysobjects', 'information_schema.tables--', 'temp', 'where', 'wapiti', 'generate_series', 'information_schema.character_sets', 'dual', 'pg_sleep', 'all_users', 'sysibm.systables', 'rdb$database', 'sysusers', 'mysql.db', 'domain.domains', 'rdb$fields', 'master..sysdatabases', 'information_schema.system_users', 'dual--', 'dual#', 'WHERE', 'ROM', 'JOIN']\n"
     ]
    }
   ],
   "source": [
    "# Print the existing tables in the payload.\n",
    "l = list(from_values.Sentence)\n",
    "\n",
    "tables = []\n",
    "for i in l:\n",
    "    x = i[i.index('from')+5:].split(' ')\n",
    "    if x[0] not in tables and len(x[0]) > 1:\n",
    "        tables.append(x[0])\n",
    "print(tables)"
   ]
  },
  {
   "cell_type": "markdown",
   "id": "86104b66",
   "metadata": {
    "papermill": {
     "duration": 0.009573,
     "end_time": "2022-11-05T17:35:37.995585",
     "exception": false,
     "start_time": "2022-11-05T17:35:37.986012",
     "status": "completed"
    },
    "tags": []
   },
   "source": [
    "### Top used wods in payloads"
   ]
  },
  {
   "cell_type": "code",
   "execution_count": 30,
   "id": "3aaa382a",
   "metadata": {
    "execution": {
     "iopub.execute_input": "2022-11-05T17:35:38.018009Z",
     "iopub.status.busy": "2022-11-05T17:35:38.017520Z",
     "iopub.status.idle": "2022-11-05T17:35:41.206530Z",
     "shell.execute_reply": "2022-11-05T17:35:41.205292Z"
    },
    "papermill": {
     "duration": 3.203768,
     "end_time": "2022-11-05T17:35:41.209234",
     "exception": false,
     "start_time": "2022-11-05T17:35:38.005466",
     "status": "completed"
    },
    "tags": []
   },
   "outputs": [
    {
     "name": "stderr",
     "output_type": "stream",
     "text": [
      "[nltk_data] Downloading package punkt to\n",
      "[nltk_data]     C:\\Users\\3057550\\AppData\\Roaming\\nltk_data...\n",
      "[nltk_data]   Package punkt is already up-to-date!\n",
      "C:\\Users\\3057550\\AppData\\Local\\Temp\\ipykernel_17100\\2642366206.py:6: FutureWarning: The default value of regex will change from True to False in a future version.\n",
      "  payloads = df.Sentence.str.lower().str.replace(r'\\|', ' ').str.cat(sep=' ')\n"
     ]
    },
    {
     "name": "stdout",
     "output_type": "stream",
     "text": [
      "All frequencies, including STOPWORDS:\n",
      "============================================================\n",
      "        Frequency\n",
      "Word             \n",
      ")           50682\n",
      "(           45635\n",
      "select      22494\n",
      "=           17735\n",
      ",           17640\n",
      "from        16154\n",
      "'           15785\n",
      "1           10166\n",
      "*            9839\n",
      "where        8267\n",
      "============================================================\n"
     ]
    },
    {
     "name": "stderr",
     "output_type": "stream",
     "text": [
      "C:\\Users\\3057550\\AppData\\Local\\Temp\\ipykernel_17100\\2642366206.py:18: MatplotlibDeprecationWarning: The seaborn styles shipped by Matplotlib are deprecated since 3.6, as they no longer correspond to the styles shipped by seaborn. However, they will remain available as 'seaborn-v0_8-<style>'. Alternatively, directly use the seaborn API instead.\n",
      "  matplotlib.style.use('seaborn-white')\n"
     ]
    },
    {
     "data": {
      "text/plain": [
       "<AxesSubplot: xlabel='Word'>"
      ]
     },
     "execution_count": 30,
     "metadata": {},
     "output_type": "execute_result"
    },
    {
     "data": {
      "image/png": "[encoded data removed]",
      "text/plain": [
       "<Figure size 640x480 with 1 Axes>"
      ]
     },
     "metadata": {},
     "output_type": "display_data"
    }
   ],
   "source": [
    "import nltk\n",
    "nltk.download('punkt')\n",
    "top_N = 10\n",
    "\n",
    "\n",
    "payloads = df.Sentence.str.lower().str.replace(r'\\|', ' ').str.cat(sep=' ')\n",
    "words = nltk.tokenize.word_tokenize(payloads)\n",
    "word_dist = nltk.FreqDist(words)\n",
    "\n",
    "\n",
    "print('All frequencies, including STOPWORDS:')\n",
    "print('=' * 60)\n",
    "rslt = pd.DataFrame(word_dist.most_common(top_N),\n",
    "                    columns=['Word', 'Frequency']).set_index('Word')\n",
    "print(rslt)\n",
    "print('=' * 60)\n",
    "\n",
    "matplotlib.style.use('seaborn-white')\n",
    "\n",
    "rslt.plot.bar(rot=0, alpha=0.3)"
   ]
  },
  {
   "cell_type": "markdown",
   "id": "b8ca1052",
   "metadata": {},
   "source": [
    "# Save the cleaned dataset"
   ]
  },
  {
   "cell_type": "code",
   "execution_count": 31,
   "id": "35f7cdd2",
   "metadata": {},
   "outputs": [
    {
     "data": {
      "text/html": [
       "<div>\n",
       "<style scoped>\n",
       "    .dataframe tbody tr th:only-of-type {\n",
       "        vertical-align: middle;\n",
       "    }\n",
       "\n",
       "    .dataframe tbody tr th {\n",
       "        vertical-align: top;\n",
       "    }\n",
       "\n",
       "    .dataframe thead th {\n",
       "        text-align: right;\n",
       "    }\n",
       "</style>\n",
       "<table border=\"1\" class=\"dataframe\">\n",
       "  <thead>\n",
       "    <tr style=\"text-align: right;\">\n",
       "      <th></th>\n",
       "      <th>Sentence</th>\n",
       "      <th>Label</th>\n",
       "    </tr>\n",
       "  </thead>\n",
       "  <tbody>\n",
       "    <tr>\n",
       "      <th>30914</th>\n",
       "      <td>DELETE FROM door WHERE grow = 'small'</td>\n",
       "      <td>0</td>\n",
       "    </tr>\n",
       "    <tr>\n",
       "      <th>30915</th>\n",
       "      <td>DELETE FROM tomorrow</td>\n",
       "      <td>0</td>\n",
       "    </tr>\n",
       "    <tr>\n",
       "      <th>30916</th>\n",
       "      <td>SELECT wide ( s )  FROM west</td>\n",
       "      <td>0</td>\n",
       "    </tr>\n",
       "    <tr>\n",
       "      <th>30917</th>\n",
       "      <td>SELECT * FROM  ( SELECT slide FROM breath )</td>\n",
       "      <td>0</td>\n",
       "    </tr>\n",
       "    <tr>\n",
       "      <th>30918</th>\n",
       "      <td>SELECT TOP 3 * FROM race</td>\n",
       "      <td>0</td>\n",
       "    </tr>\n",
       "  </tbody>\n",
       "</table>\n",
       "</div>"
      ],
      "text/plain": [
       "                                           Sentence  Label\n",
       "30914         DELETE FROM door WHERE grow = 'small'      0\n",
       "30915                          DELETE FROM tomorrow      0\n",
       "30916                  SELECT wide ( s )  FROM west      0\n",
       "30917  SELECT * FROM  ( SELECT slide FROM breath )       0\n",
       "30918                      SELECT TOP 3 * FROM race      0"
      ]
     },
     "execution_count": 31,
     "metadata": {},
     "output_type": "execute_result"
    }
   ],
   "source": [
    "df.tail()"
   ]
  },
  {
   "cell_type": "code",
   "execution_count": 32,
   "id": "c6f0e6ac",
   "metadata": {},
   "outputs": [],
   "source": [
    "df.to_csv(main_folder / 'SQLiV3_cleaned.csv', sep=',', encoding='utf-8') # Write the cleaned dataset."
   ]
  },
  {
   "cell_type": "markdown",
   "id": "1974a119",
   "metadata": {},
   "source": [
    "## Split to test train"
   ]
  },
  {
   "cell_type": "code",
   "execution_count": 33,
   "id": "b28e8e9d",
   "metadata": {},
   "outputs": [],
   "source": [
    "from sklearn.model_selection import train_test_split"
   ]
  },
  {
   "cell_type": "code",
   "execution_count": 34,
   "id": "1be7fd7d",
   "metadata": {},
   "outputs": [
    {
     "name": "stdout",
     "output_type": "stream",
     "text": [
      "(24487, 2) (6122, 2)\n",
      "Dataset Input: \n",
      "                                                 Sentence  Label\n",
      "28493  SELECT AVG ( gradually ) FROM load SELECT SUM ...      0\n",
      "13795                                        guardia, la      0\n",
      "22665       SELECT * FROM  ( SELECT highway FROM walk )       0\n",
      "7234   1'+  (  select 'wyxu' where 2555  =  2555 unio...      1\n",
      "27329  SELECT AVG ( war ) FROM layers SELECT SUM ( me...      0\n",
      "Dataset Label: \n",
      "                                                 Sentence  Label\n",
      "541     select * from users where id  =  1 or \"._\" or...      1\n",
      "29933     SELECT flame, shaking, gulfFROM buried WHER...      0\n",
      "4404   1%\"   )    )     )   or updatexml  (  1808,con...      1\n",
      "18933                           travesia palacio 61, 1?d      0\n",
      "28192  SELECT * FROM explore WHERE with = 'affect' LI...      0\n"
     ]
    }
   ],
   "source": [
    "df_train, df_test = train_test_split(df, test_size = 0.2)\n",
    "print(df_train.shape, df_test.shape)\n",
    "print(\"Dataset Input:\", \"\\n\", df_train.head(5))\n",
    "print(\"Dataset Label:\", \"\\n\", df_test.head(5))"
   ]
  },
  {
   "cell_type": "code",
   "execution_count": 35,
   "id": "6864df39",
   "metadata": {},
   "outputs": [],
   "source": [
    "df_train.to_csv(main_folder / 'SQLiV3_train.tsv', index=False, header=['Payload', 'Attacker'], sep='\\t', encoding='utf-8') # Write the train dataset.\n",
    "df_test.to_csv(main_folder / 'SQLiV3_test.tsv', index=False, header=['Payload', 'Attacker'], sep='\\t', encoding='utf-8') # Write the test dataset."
   ]
  }
 ],
 "metadata": {
  "kernelspec": {
   "display_name": "Python 3 (ipykernel)",
   "language": "python",
   "name": "python3"
  },
  "language_info": {
   "codemirror_mode": {
    "name": "ipython",
    "version": 3
   },
   "file_extension": ".py",
   "mimetype": "text/x-python",
   "name": "python",
   "nbconvert_exporter": "python",
   "pygments_lexer": "ipython3",
   "version": "3.11.0"
  },
  "papermill": {
   "default_parameters": {},
   "duration": 27.640078,
   "end_time": "2022-11-05T17:35:54.047483",
   "environment_variables": {},
   "exception": null,
   "input_path": "__notebook__.ipynb",
   "output_path": "__notebook__.ipynb",
   "parameters": {},
   "start_time": "2022-11-05T17:35:26.407405",
   "version": "2.3.4"
  },
  "widgets": {
   "application/vnd.jupyter.widget-state+json": {
    "state": {
     "00f2fc95c6ee4a2d8a4be78e661a1b4e": {
      "model_module": "@jupyter-widgets/base",
      "model_module_version": "1.2.0",
      "model_name": "LayoutModel",
      "state": {
       "_model_module": "@jupyter-widgets/base",
       "_model_module_version": "1.2.0",
       "_model_name": "LayoutModel",
       "_view_count": null,
       "_view_module": "@jupyter-widgets/base",
       "_view_module_version": "1.2.0",
       "_view_name": "LayoutView",
       "align_content": null,
       "align_items": null,
       "align_self": null,
       "border": null,
       "bottom": null,
       "display": null,
       "flex": null,
       "flex_flow": null,
       "grid_area": null,
       "grid_auto_columns": null,
       "grid_auto_flow": null,
       "grid_auto_rows": null,
       "grid_column": null,
       "grid_gap": null,
       "grid_row": null,
       "grid_template_areas": null,
       "grid_template_columns": null,
       "grid_template_rows": null,
       "height": null,
       "justify_content": null,
       "justify_items": null,
       "left": null,
       "margin": null,
       "max_height": null,
       "max_width": null,
       "min_height": null,
       "min_width": null,
       "object_fit": null,
       "object_position": null,
       "order": null,
       "overflow": null,
       "overflow_x": null,
       "overflow_y": null,
       "padding": null,
       "right": null,
       "top": null,
       "visibility": null,
       "width": null
      }
     },
     "0a57cb5cc14048ad98b9ea936f0cfdbd": {
      "model_module": "@jupyter-widgets/controls",
      "model_module_version": "1.5.0",
      "model_name": "HTMLModel",
      "state": {
       "_dom_classes": [],
       "_model_module": "@jupyter-widgets/controls",
       "_model_module_version": "1.5.0",
       "_model_name": "HTMLModel",
       "_view_count": null,
       "_view_module": "@jupyter-widgets/controls",
       "_view_module_version": "1.5.0",
       "_view_name": "HTMLView",
       "description": "",
       "description_tooltip": null,
       "layout": "IPY_MODEL_b135003108764b739950f668490fa55c",
       "placeholder": "​",
       "style": "IPY_MODEL_10593b6343be4ebc812be84b707e75b4",
       "value": "Render HTML: 100%"
      }
     },
     "10593b6343be4ebc812be84b707e75b4": {
      "model_module": "@jupyter-widgets/controls",
      "model_module_version": "1.5.0",
      "model_name": "DescriptionStyleModel",
      "state": {
       "_model_module": "@jupyter-widgets/controls",
       "_model_module_version": "1.5.0",
       "_model_name": "DescriptionStyleModel",
       "_view_count": null,
       "_view_module": "@jupyter-widgets/base",
       "_view_module_version": "1.2.0",
       "_view_name": "StyleView",
       "description_width": ""
      }
     },
     "2262084892b84e3e84fc9cc757984ada": {
      "model_module": "@jupyter-widgets/controls",
      "model_module_version": "1.5.0",
      "model_name": "HTMLModel",
      "state": {
       "_dom_classes": [],
       "_model_module": "@jupyter-widgets/controls",
       "_model_module_version": "1.5.0",
       "_model_name": "HTMLModel",
       "_view_count": null,
       "_view_module": "@jupyter-widgets/controls",
       "_view_module_version": "1.5.0",
       "_view_name": "HTMLView",
       "description": "",
       "description_tooltip": null,
       "layout": "IPY_MODEL_583722cd33394256a9b6ac6d4e866351",
       "placeholder": "​",
       "style": "IPY_MODEL_434d62bdb7cd41db986eef43f9e2da0a",
       "value": "Generate report structure: 100%"
      }
     },
     "2c4b2dba95114fc2be8c198e79908d4b": {
      "model_module": "@jupyter-widgets/controls",
      "model_module_version": "1.5.0",
      "model_name": "FloatProgressModel",
      "state": {
       "_dom_classes": [],
       "_model_module": "@jupyter-widgets/controls",
       "_model_module_version": "1.5.0",
       "_model_name": "FloatProgressModel",
       "_view_count": null,
       "_view_module": "@jupyter-widgets/controls",
       "_view_module_version": "1.5.0",
       "_view_name": "ProgressView",
       "bar_style": "success",
       "description": "",
       "description_tooltip": null,
       "layout": "IPY_MODEL_f63000c73197454894dc4604114d92cb",
       "max": 1,
       "min": 0,
       "orientation": "horizontal",
       "style": "IPY_MODEL_d85dae99d1294dd7a9cc57ba42214eca",
       "value": 1
      }
     },
     "2fed48ced146479db0fb72764c827ac3": {
      "model_module": "@jupyter-widgets/controls",
      "model_module_version": "1.5.0",
      "model_name": "HTMLModel",
      "state": {
       "_dom_classes": [],
       "_model_module": "@jupyter-widgets/controls",
       "_model_module_version": "1.5.0",
       "_model_name": "HTMLModel",
       "_view_count": null,
       "_view_module": "@jupyter-widgets/controls",
       "_view_module_version": "1.5.0",
       "_view_name": "HTMLView",
       "description": "",
       "description_tooltip": null,
       "layout": "IPY_MODEL_34a3bc60d9684b649fdeec72fe4c572a",
       "placeholder": "​",
       "style": "IPY_MODEL_322e441508e74363a29301a5e25b6012",
       "value": " 17/17 [00:05&lt;00:00,  3.26it/s, Completed]"
      }
     },
     "322e441508e74363a29301a5e25b6012": {
      "model_module": "@jupyter-widgets/controls",
      "model_module_version": "1.5.0",
      "model_name": "DescriptionStyleModel",
      "state": {
       "_model_module": "@jupyter-widgets/controls",
       "_model_module_version": "1.5.0",
       "_model_name": "DescriptionStyleModel",
       "_view_count": null,
       "_view_module": "@jupyter-widgets/base",
       "_view_module_version": "1.2.0",
       "_view_name": "StyleView",
       "description_width": ""
      }
     },
     "34a3bc60d9684b649fdeec72fe4c572a": {
      "model_module": "@jupyter-widgets/base",
      "model_module_version": "1.2.0",
      "model_name": "LayoutModel",
      "state": {
       "_model_module": "@jupyter-widgets/base",
       "_model_module_version": "1.2.0",
       "_model_name": "LayoutModel",
       "_view_count": null,
       "_view_module": "@jupyter-widgets/base",
       "_view_module_version": "1.2.0",
       "_view_name": "LayoutView",
       "align_content": null,
       "align_items": null,
       "align_self": null,
       "border": null,
       "bottom": null,
       "display": null,
       "flex": null,
       "flex_flow": null,
       "grid_area": null,
       "grid_auto_columns": null,
       "grid_auto_flow": null,
       "grid_auto_rows": null,
       "grid_column": null,
       "grid_gap": null,
       "grid_row": null,
       "grid_template_areas": null,
       "grid_template_columns": null,
       "grid_template_rows": null,
       "height": null,
       "justify_content": null,
       "justify_items": null,
       "left": null,
       "margin": null,
       "max_height": null,
       "max_width": null,
       "min_height": null,
       "min_width": null,
       "object_fit": null,
       "object_position": null,
       "order": null,
       "overflow": null,
       "overflow_x": null,
       "overflow_y": null,
       "padding": null,
       "right": null,
       "top": null,
       "visibility": null,
       "width": null
      }
     },
     "37fe181536274e618657baef328d21bd": {
      "model_module": "@jupyter-widgets/base",
      "model_module_version": "1.2.0",
      "model_name": "LayoutModel",
      "state": {
       "_model_module": "@jupyter-widgets/base",
       "_model_module_version": "1.2.0",
       "_model_name": "LayoutModel",
       "_view_count": null,
       "_view_module": "@jupyter-widgets/base",
       "_view_module_version": "1.2.0",
       "_view_name": "LayoutView",
       "align_content": null,
       "align_items": null,
       "align_self": null,
       "border": null,
       "bottom": null,
       "display": null,
       "flex": null,
       "flex_flow": null,
       "grid_area": null,
       "grid_auto_columns": null,
       "grid_auto_flow": null,
       "grid_auto_rows": null,
       "grid_column": null,
       "grid_gap": null,
       "grid_row": null,
       "grid_template_areas": null,
       "grid_template_columns": null,
       "grid_template_rows": null,
       "height": null,
       "justify_content": null,
       "justify_items": null,
       "left": null,
       "margin": null,
       "max_height": null,
       "max_width": null,
       "min_height": null,
       "min_width": null,
       "object_fit": null,
       "object_position": null,
       "order": null,
       "overflow": null,
       "overflow_x": null,
       "overflow_y": null,
       "padding": null,
       "right": null,
       "top": null,
       "visibility": null,
       "width": null
      }
     },
     "3db80f5b285e4c36bb575686f24c3291": {
      "model_module": "@jupyter-widgets/controls",
      "model_module_version": "1.5.0",
      "model_name": "HTMLModel",
      "state": {
       "_dom_classes": [],
       "_model_module": "@jupyter-widgets/controls",
       "_model_module_version": "1.5.0",
       "_model_name": "HTMLModel",
       "_view_count": null,
       "_view_module": "@jupyter-widgets/controls",
       "_view_module_version": "1.5.0",
       "_view_name": "HTMLView",
       "description": "",
       "description_tooltip": null,
       "layout": "IPY_MODEL_ad7d00e0e34b4bed9f7953ad758c03f1",
       "placeholder": "​",
       "style": "IPY_MODEL_d142d229bb8646d19e584d53dba128b0",
       "value": " 1/1 [00:00&lt;00:00,  2.43it/s]"
      }
     },
     "3dd186fa8f76498480a175669b05fa16": {
      "model_module": "@jupyter-widgets/controls",
      "model_module_version": "1.5.0",
      "model_name": "HTMLModel",
      "state": {
       "_dom_classes": [],
       "_model_module": "@jupyter-widgets/controls",
       "_model_module_version": "1.5.0",
       "_model_name": "HTMLModel",
       "_view_count": null,
       "_view_module": "@jupyter-widgets/controls",
       "_view_module_version": "1.5.0",
       "_view_name": "HTMLView",
       "description": "",
       "description_tooltip": null,
       "layout": "IPY_MODEL_b85165bb25844bf998933f779a5f7d1f",
       "placeholder": "​",
       "style": "IPY_MODEL_d1a772388eb544d3ba414deee2866385",
       "value": " 1/1 [00:01&lt;00:00,  1.97s/it]"
      }
     },
     "434d62bdb7cd41db986eef43f9e2da0a": {
      "model_module": "@jupyter-widgets/controls",
      "model_module_version": "1.5.0",
      "model_name": "DescriptionStyleModel",
      "state": {
       "_model_module": "@jupyter-widgets/controls",
       "_model_module_version": "1.5.0",
       "_model_name": "DescriptionStyleModel",
       "_view_count": null,
       "_view_module": "@jupyter-widgets/base",
       "_view_module_version": "1.2.0",
       "_view_name": "StyleView",
       "description_width": ""
      }
     },
     "47e120c91b3d468283f519d7ab175a2f": {
      "model_module": "@jupyter-widgets/base",
      "model_module_version": "1.2.0",
      "model_name": "LayoutModel",
      "state": {
       "_model_module": "@jupyter-widgets/base",
       "_model_module_version": "1.2.0",
       "_model_name": "LayoutModel",
       "_view_count": null,
       "_view_module": "@jupyter-widgets/base",
       "_view_module_version": "1.2.0",
       "_view_name": "LayoutView",
       "align_content": null,
       "align_items": null,
       "align_self": null,
       "border": null,
       "bottom": null,
       "display": null,
       "flex": null,
       "flex_flow": null,
       "grid_area": null,
       "grid_auto_columns": null,
       "grid_auto_flow": null,
       "grid_auto_rows": null,
       "grid_column": null,
       "grid_gap": null,
       "grid_row": null,
       "grid_template_areas": null,
       "grid_template_columns": null,
       "grid_template_rows": null,
       "height": null,
       "justify_content": null,
       "justify_items": null,
       "left": null,
       "margin": null,
       "max_height": null,
       "max_width": null,
       "min_height": null,
       "min_width": null,
       "object_fit": null,
       "object_position": null,
       "order": null,
       "overflow": null,
       "overflow_x": null,
       "overflow_y": null,
       "padding": null,
       "right": null,
       "top": null,
       "visibility": null,
       "width": null
      }
     },
     "51b6a486473e454a86447bf9f039873e": {
      "model_module": "@jupyter-widgets/controls",
      "model_module_version": "1.5.0",
      "model_name": "HBoxModel",
      "state": {
       "_dom_classes": [],
       "_model_module": "@jupyter-widgets/controls",
       "_model_module_version": "1.5.0",
       "_model_name": "HBoxModel",
       "_view_count": null,
       "_view_module": "@jupyter-widgets/controls",
       "_view_module_version": "1.5.0",
       "_view_name": "HBoxView",
       "box_style": "",
       "children": [
        "IPY_MODEL_6298a3613ad24bf2bcc10bdc9c8210d0",
        "IPY_MODEL_7971ae40e49f41c8bdffe142700e6372",
        "IPY_MODEL_2fed48ced146479db0fb72764c827ac3"
       ],
       "layout": "IPY_MODEL_69c0eef08c414627a30c96d2ab4a2981"
      }
     },
     "520a4f7ed42848288918c252582238fa": {
      "model_module": "@jupyter-widgets/base",
      "model_module_version": "1.2.0",
      "model_name": "LayoutModel",
      "state": {
       "_model_module": "@jupyter-widgets/base",
       "_model_module_version": "1.2.0",
       "_model_name": "LayoutModel",
       "_view_count": null,
       "_view_module": "@jupyter-widgets/base",
       "_view_module_version": "1.2.0",
       "_view_name": "LayoutView",
       "align_content": null,
       "align_items": null,
       "align_self": null,
       "border": null,
       "bottom": null,
       "display": null,
       "flex": null,
       "flex_flow": null,
       "grid_area": null,
       "grid_auto_columns": null,
       "grid_auto_flow": null,
       "grid_auto_rows": null,
       "grid_column": null,
       "grid_gap": null,
       "grid_row": null,
       "grid_template_areas": null,
       "grid_template_columns": null,
       "grid_template_rows": null,
       "height": null,
       "justify_content": null,
       "justify_items": null,
       "left": null,
       "margin": null,
       "max_height": null,
       "max_width": null,
       "min_height": null,
       "min_width": null,
       "object_fit": null,
       "object_position": null,
       "order": null,
       "overflow": null,
       "overflow_x": null,
       "overflow_y": null,
       "padding": null,
       "right": null,
       "top": null,
       "visibility": null,
       "width": null
      }
     },
     "583722cd33394256a9b6ac6d4e866351": {
      "model_module": "@jupyter-widgets/base",
      "model_module_version": "1.2.0",
      "model_name": "LayoutModel",
      "state": {
       "_model_module": "@jupyter-widgets/base",
       "_model_module_version": "1.2.0",
       "_model_name": "LayoutModel",
       "_view_count": null,
       "_view_module": "@jupyter-widgets/base",
       "_view_module_version": "1.2.0",
       "_view_name": "LayoutView",
       "align_content": null,
       "align_items": null,
       "align_self": null,
       "border": null,
       "bottom": null,
       "display": null,
       "flex": null,
       "flex_flow": null,
       "grid_area": null,
       "grid_auto_columns": null,
       "grid_auto_flow": null,
       "grid_auto_rows": null,
       "grid_column": null,
       "grid_gap": null,
       "grid_row": null,
       "grid_template_areas": null,
       "grid_template_columns": null,
       "grid_template_rows": null,
       "height": null,
       "justify_content": null,
       "justify_items": null,
       "left": null,
       "margin": null,
       "max_height": null,
       "max_width": null,
       "min_height": null,
       "min_width": null,
       "object_fit": null,
       "object_position": null,
       "order": null,
       "overflow": null,
       "overflow_x": null,
       "overflow_y": null,
       "padding": null,
       "right": null,
       "top": null,
       "visibility": null,
       "width": null
      }
     },
     "5e246dba79174e0facd36c67bbcedaf1": {
      "model_module": "@jupyter-widgets/controls",
      "model_module_version": "1.5.0",
      "model_name": "HBoxModel",
      "state": {
       "_dom_classes": [],
       "_model_module": "@jupyter-widgets/controls",
       "_model_module_version": "1.5.0",
       "_model_name": "HBoxModel",
       "_view_count": null,
       "_view_module": "@jupyter-widgets/controls",
       "_view_module_version": "1.5.0",
       "_view_name": "HBoxView",
       "box_style": "",
       "children": [
        "IPY_MODEL_0a57cb5cc14048ad98b9ea936f0cfdbd",
        "IPY_MODEL_2c4b2dba95114fc2be8c198e79908d4b",
        "IPY_MODEL_3db80f5b285e4c36bb575686f24c3291"
       ],
       "layout": "IPY_MODEL_37fe181536274e618657baef328d21bd"
      }
     },
     "6298a3613ad24bf2bcc10bdc9c8210d0": {
      "model_module": "@jupyter-widgets/controls",
      "model_module_version": "1.5.0",
      "model_name": "HTMLModel",
      "state": {
       "_dom_classes": [],
       "_model_module": "@jupyter-widgets/controls",
       "_model_module_version": "1.5.0",
       "_model_name": "HTMLModel",
       "_view_count": null,
       "_view_module": "@jupyter-widgets/controls",
       "_view_module_version": "1.5.0",
       "_view_name": "HTMLView",
       "description": "",
       "description_tooltip": null,
       "layout": "IPY_MODEL_47e120c91b3d468283f519d7ab175a2f",
       "placeholder": "​",
       "style": "IPY_MODEL_8272b24773854cb6bb513fa86e5056a3",
       "value": "Summarize dataset: 100%"
      }
     },
     "69c0eef08c414627a30c96d2ab4a2981": {
      "model_module": "@jupyter-widgets/base",
      "model_module_version": "1.2.0",
      "model_name": "LayoutModel",
      "state": {
       "_model_module": "@jupyter-widgets/base",
       "_model_module_version": "1.2.0",
       "_model_name": "LayoutModel",
       "_view_count": null,
       "_view_module": "@jupyter-widgets/base",
       "_view_module_version": "1.2.0",
       "_view_name": "LayoutView",
       "align_content": null,
       "align_items": null,
       "align_self": null,
       "border": null,
       "bottom": null,
       "display": null,
       "flex": null,
       "flex_flow": null,
       "grid_area": null,
       "grid_auto_columns": null,
       "grid_auto_flow": null,
       "grid_auto_rows": null,
       "grid_column": null,
       "grid_gap": null,
       "grid_row": null,
       "grid_template_areas": null,
       "grid_template_columns": null,
       "grid_template_rows": null,
       "height": null,
       "justify_content": null,
       "justify_items": null,
       "left": null,
       "margin": null,
       "max_height": null,
       "max_width": null,
       "min_height": null,
       "min_width": null,
       "object_fit": null,
       "object_position": null,
       "order": null,
       "overflow": null,
       "overflow_x": null,
       "overflow_y": null,
       "padding": null,
       "right": null,
       "top": null,
       "visibility": null,
       "width": null
      }
     },
     "7971ae40e49f41c8bdffe142700e6372": {
      "model_module": "@jupyter-widgets/controls",
      "model_module_version": "1.5.0",
      "model_name": "FloatProgressModel",
      "state": {
       "_dom_classes": [],
       "_model_module": "@jupyter-widgets/controls",
       "_model_module_version": "1.5.0",
       "_model_name": "FloatProgressModel",
       "_view_count": null,
       "_view_module": "@jupyter-widgets/controls",
       "_view_module_version": "1.5.0",
       "_view_name": "ProgressView",
       "bar_style": "success",
       "description": "",
       "description_tooltip": null,
       "layout": "IPY_MODEL_b32dd39198624d96b921e698bfaf5470",
       "max": 5,
       "min": 0,
       "orientation": "horizontal",
       "style": "IPY_MODEL_f9304dccb29a4f4399aa5164eced1511",
       "value": 5
      }
     },
     "7dda28c91edb42b7af3b47c4dcf4f2b0": {
      "model_module": "@jupyter-widgets/controls",
      "model_module_version": "1.5.0",
      "model_name": "FloatProgressModel",
      "state": {
       "_dom_classes": [],
       "_model_module": "@jupyter-widgets/controls",
       "_model_module_version": "1.5.0",
       "_model_name": "FloatProgressModel",
       "_view_count": null,
       "_view_module": "@jupyter-widgets/controls",
       "_view_module_version": "1.5.0",
       "_view_name": "ProgressView",
       "bar_style": "success",
       "description": "",
       "description_tooltip": null,
       "layout": "IPY_MODEL_520a4f7ed42848288918c252582238fa",
       "max": 1,
       "min": 0,
       "orientation": "horizontal",
       "style": "IPY_MODEL_b57faf91e1aa4313a1a0f8f3b330a462",
       "value": 1
      }
     },
     "8272b24773854cb6bb513fa86e5056a3": {
      "model_module": "@jupyter-widgets/controls",
      "model_module_version": "1.5.0",
      "model_name": "DescriptionStyleModel",
      "state": {
       "_model_module": "@jupyter-widgets/controls",
       "_model_module_version": "1.5.0",
       "_model_name": "DescriptionStyleModel",
       "_view_count": null,
       "_view_module": "@jupyter-widgets/base",
       "_view_module_version": "1.2.0",
       "_view_name": "StyleView",
       "description_width": ""
      }
     },
     "92a6c2429d644b95844f15c7f119262c": {
      "model_module": "@jupyter-widgets/controls",
      "model_module_version": "1.5.0",
      "model_name": "HBoxModel",
      "state": {
       "_dom_classes": [],
       "_model_module": "@jupyter-widgets/controls",
       "_model_module_version": "1.5.0",
       "_model_name": "HBoxModel",
       "_view_count": null,
       "_view_module": "@jupyter-widgets/controls",
       "_view_module_version": "1.5.0",
       "_view_name": "HBoxView",
       "box_style": "",
       "children": [
        "IPY_MODEL_2262084892b84e3e84fc9cc757984ada",
        "IPY_MODEL_7dda28c91edb42b7af3b47c4dcf4f2b0",
        "IPY_MODEL_3dd186fa8f76498480a175669b05fa16"
       ],
       "layout": "IPY_MODEL_00f2fc95c6ee4a2d8a4be78e661a1b4e"
      }
     },
     "ad7d00e0e34b4bed9f7953ad758c03f1": {
      "model_module": "@jupyter-widgets/base",
      "model_module_version": "1.2.0",
      "model_name": "LayoutModel",
      "state": {
       "_model_module": "@jupyter-widgets/base",
       "_model_module_version": "1.2.0",
       "_model_name": "LayoutModel",
       "_view_count": null,
       "_view_module": "@jupyter-widgets/base",
       "_view_module_version": "1.2.0",
       "_view_name": "LayoutView",
       "align_content": null,
       "align_items": null,
       "align_self": null,
       "border": null,
       "bottom": null,
       "display": null,
       "flex": null,
       "flex_flow": null,
       "grid_area": null,
       "grid_auto_columns": null,
       "grid_auto_flow": null,
       "grid_auto_rows": null,
       "grid_column": null,
       "grid_gap": null,
       "grid_row": null,
       "grid_template_areas": null,
       "grid_template_columns": null,
       "grid_template_rows": null,
       "height": null,
       "justify_content": null,
       "justify_items": null,
       "left": null,
       "margin": null,
       "max_height": null,
       "max_width": null,
       "min_height": null,
       "min_width": null,
       "object_fit": null,
       "object_position": null,
       "order": null,
       "overflow": null,
       "overflow_x": null,
       "overflow_y": null,
       "padding": null,
       "right": null,
       "top": null,
       "visibility": null,
       "width": null
      }
     },
     "b135003108764b739950f668490fa55c": {
      "model_module": "@jupyter-widgets/base",
      "model_module_version": "1.2.0",
      "model_name": "LayoutModel",
      "state": {
       "_model_module": "@jupyter-widgets/base",
       "_model_module_version": "1.2.0",
       "_model_name": "LayoutModel",
       "_view_count": null,
       "_view_module": "@jupyter-widgets/base",
       "_view_module_version": "1.2.0",
       "_view_name": "LayoutView",
       "align_content": null,
       "align_items": null,
       "align_self": null,
       "border": null,
       "bottom": null,
       "display": null,
       "flex": null,
       "flex_flow": null,
       "grid_area": null,
       "grid_auto_columns": null,
       "grid_auto_flow": null,
       "grid_auto_rows": null,
       "grid_column": null,
       "grid_gap": null,
       "grid_row": null,
       "grid_template_areas": null,
       "grid_template_columns": null,
       "grid_template_rows": null,
       "height": null,
       "justify_content": null,
       "justify_items": null,
       "left": null,
       "margin": null,
       "max_height": null,
       "max_width": null,
       "min_height": null,
       "min_width": null,
       "object_fit": null,
       "object_position": null,
       "order": null,
       "overflow": null,
       "overflow_x": null,
       "overflow_y": null,
       "padding": null,
       "right": null,
       "top": null,
       "visibility": null,
       "width": null
      }
     },
     "b32dd39198624d96b921e698bfaf5470": {
      "model_module": "@jupyter-widgets/base",
      "model_module_version": "1.2.0",
      "model_name": "LayoutModel",
      "state": {
       "_model_module": "@jupyter-widgets/base",
       "_model_module_version": "1.2.0",
       "_model_name": "LayoutModel",
       "_view_count": null,
       "_view_module": "@jupyter-widgets/base",
       "_view_module_version": "1.2.0",
       "_view_name": "LayoutView",
       "align_content": null,
       "align_items": null,
       "align_self": null,
       "border": null,
       "bottom": null,
       "display": null,
       "flex": null,
       "flex_flow": null,
       "grid_area": null,
       "grid_auto_columns": null,
       "grid_auto_flow": null,
       "grid_auto_rows": null,
       "grid_column": null,
       "grid_gap": null,
       "grid_row": null,
       "grid_template_areas": null,
       "grid_template_columns": null,
       "grid_template_rows": null,
       "height": null,
       "justify_content": null,
       "justify_items": null,
       "left": null,
       "margin": null,
       "max_height": null,
       "max_width": null,
       "min_height": null,
       "min_width": null,
       "object_fit": null,
       "object_position": null,
       "order": null,
       "overflow": null,
       "overflow_x": null,
       "overflow_y": null,
       "padding": null,
       "right": null,
       "top": null,
       "visibility": null,
       "width": null
      }
     },
     "b57faf91e1aa4313a1a0f8f3b330a462": {
      "model_module": "@jupyter-widgets/controls",
      "model_module_version": "1.5.0",
      "model_name": "ProgressStyleModel",
      "state": {
       "_model_module": "@jupyter-widgets/controls",
       "_model_module_version": "1.5.0",
       "_model_name": "ProgressStyleModel",
       "_view_count": null,
       "_view_module": "@jupyter-widgets/base",
       "_view_module_version": "1.2.0",
       "_view_name": "StyleView",
       "bar_color": null,
       "description_width": ""
      }
     },
     "b85165bb25844bf998933f779a5f7d1f": {
      "model_module": "@jupyter-widgets/base",
      "model_module_version": "1.2.0",
      "model_name": "LayoutModel",
      "state": {
       "_model_module": "@jupyter-widgets/base",
       "_model_module_version": "1.2.0",
       "_model_name": "LayoutModel",
       "_view_count": null,
       "_view_module": "@jupyter-widgets/base",
       "_view_module_version": "1.2.0",
       "_view_name": "LayoutView",
       "align_content": null,
       "align_items": null,
       "align_self": null,
       "border": null,
       "bottom": null,
       "display": null,
       "flex": null,
       "flex_flow": null,
       "grid_area": null,
       "grid_auto_columns": null,
       "grid_auto_flow": null,
       "grid_auto_rows": null,
       "grid_column": null,
       "grid_gap": null,
       "grid_row": null,
       "grid_template_areas": null,
       "grid_template_columns": null,
       "grid_template_rows": null,
       "height": null,
       "justify_content": null,
       "justify_items": null,
       "left": null,
       "margin": null,
       "max_height": null,
       "max_width": null,
       "min_height": null,
       "min_width": null,
       "object_fit": null,
       "object_position": null,
       "order": null,
       "overflow": null,
       "overflow_x": null,
       "overflow_y": null,
       "padding": null,
       "right": null,
       "top": null,
       "visibility": null,
       "width": null
      }
     },
     "d142d229bb8646d19e584d53dba128b0": {
      "model_module": "@jupyter-widgets/controls",
      "model_module_version": "1.5.0",
      "model_name": "DescriptionStyleModel",
      "state": {
       "_model_module": "@jupyter-widgets/controls",
       "_model_module_version": "1.5.0",
       "_model_name": "DescriptionStyleModel",
       "_view_count": null,
       "_view_module": "@jupyter-widgets/base",
       "_view_module_version": "1.2.0",
       "_view_name": "StyleView",
       "description_width": ""
      }
     },
     "d1a772388eb544d3ba414deee2866385": {
      "model_module": "@jupyter-widgets/controls",
      "model_module_version": "1.5.0",
      "model_name": "DescriptionStyleModel",
      "state": {
       "_model_module": "@jupyter-widgets/controls",
       "_model_module_version": "1.5.0",
       "_model_name": "DescriptionStyleModel",
       "_view_count": null,
       "_view_module": "@jupyter-widgets/base",
       "_view_module_version": "1.2.0",
       "_view_name": "StyleView",
       "description_width": ""
      }
     },
     "d85dae99d1294dd7a9cc57ba42214eca": {
      "model_module": "@jupyter-widgets/controls",
      "model_module_version": "1.5.0",
      "model_name": "ProgressStyleModel",
      "state": {
       "_model_module": "@jupyter-widgets/controls",
       "_model_module_version": "1.5.0",
       "_model_name": "ProgressStyleModel",
       "_view_count": null,
       "_view_module": "@jupyter-widgets/base",
       "_view_module_version": "1.2.0",
       "_view_name": "StyleView",
       "bar_color": null,
       "description_width": ""
      }
     },
     "f63000c73197454894dc4604114d92cb": {
      "model_module": "@jupyter-widgets/base",
      "model_module_version": "1.2.0",
      "model_name": "LayoutModel",
      "state": {
       "_model_module": "@jupyter-widgets/base",
       "_model_module_version": "1.2.0",
       "_model_name": "LayoutModel",
       "_view_count": null,
       "_view_module": "@jupyter-widgets/base",
       "_view_module_version": "1.2.0",
       "_view_name": "LayoutView",
       "align_content": null,
       "align_items": null,
       "align_self": null,
       "border": null,
       "bottom": null,
       "display": null,
       "flex": null,
       "flex_flow": null,
       "grid_area": null,
       "grid_auto_columns": null,
       "grid_auto_flow": null,
       "grid_auto_rows": null,
       "grid_column": null,
       "grid_gap": null,
       "grid_row": null,
       "grid_template_areas": null,
       "grid_template_columns": null,
       "grid_template_rows": null,
       "height": null,
       "justify_content": null,
       "justify_items": null,
       "left": null,
       "margin": null,
       "max_height": null,
       "max_width": null,
       "min_height": null,
       "min_width": null,
       "object_fit": null,
       "object_position": null,
       "order": null,
       "overflow": null,
       "overflow_x": null,
       "overflow_y": null,
       "padding": null,
       "right": null,
       "top": null,
       "visibility": null,
       "width": null
      }
     },
     "f9304dccb29a4f4399aa5164eced1511": {
      "model_module": "@jupyter-widgets/controls",
      "model_module_version": "1.5.0",
      "model_name": "ProgressStyleModel",
      "state": {
       "_model_module": "@jupyter-widgets/controls",
       "_model_module_version": "1.5.0",
       "_model_name": "ProgressStyleModel",
       "_view_count": null,
       "_view_module": "@jupyter-widgets/base",
       "_view_module_version": "1.2.0",
       "_view_name": "StyleView",
       "bar_color": null,
       "description_width": ""
      }
     }
    },
    "version_major": 2,
    "version_minor": 0
   }
  }
 },
 "nbformat": 4,
 "nbformat_minor": 5
}
